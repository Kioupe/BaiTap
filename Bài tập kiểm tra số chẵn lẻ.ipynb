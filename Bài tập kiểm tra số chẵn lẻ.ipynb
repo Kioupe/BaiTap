{
 "cells": [
  {
   "cell_type": "markdown",
   "id": "e5016091",
   "metadata": {},
   "source": [
    "Sử dụng function: input() để nhập một số bất kì sau đó chuyển kiểu về float. Kiểm tra số nhập vào có chia hết cho 2 hay không?\n",
    "\n",
    "Nếu chia hết cho 2: số chẵn\n",
    "Nếu không chia hết cho 2 dư 1: số lẽ\n",
    "Ngoài ra: không phải số tự nhiên."
   ]
  },
  {
   "cell_type": "code",
   "execution_count": 1,
   "id": "c3b0b17c",
   "metadata": {},
   "outputs": [
    {
     "name": "stdout",
     "output_type": "stream",
     "text": [
      "Nhập số: 1.5\n",
      "Không phải số tự nhiên\n"
     ]
    }
   ],
   "source": [
    "a = float(input(\"Nhập số: \"))\n",
    "if a%1==0:\n",
    "    if a%2==0:\n",
    "        print(\"Số chẵn\")\n",
    "    else:\n",
    "        print(\"Số lẻ\")\n",
    "else:\n",
    "    print(\"Không phải số tự nhiên\")"
   ]
  }
 ],
 "metadata": {
  "kernelspec": {
   "display_name": "Python 3 (ipykernel)",
   "language": "python",
   "name": "python3"
  },
  "language_info": {
   "codemirror_mode": {
    "name": "ipython",
    "version": 3
   },
   "file_extension": ".py",
   "mimetype": "text/x-python",
   "name": "python",
   "nbconvert_exporter": "python",
   "pygments_lexer": "ipython3",
   "version": "3.10.7"
  }
 },
 "nbformat": 4,
 "nbformat_minor": 5
}
