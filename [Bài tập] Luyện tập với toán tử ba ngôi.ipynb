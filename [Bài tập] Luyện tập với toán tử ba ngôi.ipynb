{
 "cells": [
  {
   "cell_type": "markdown",
   "id": "a1c913e2",
   "metadata": {},
   "source": [
    "Nhập vào 1 số nguyên bất kì. Kiểm tra số nguyên nhập vào có chia hết cho 2 hay không?\n",
    "\n",
    "Nếu chia hết cho 2: số chẵn\n",
    "Nếu không chia hết cho 2 có dư : số lẻ"
   ]
  },
  {
   "cell_type": "code",
   "execution_count": 1,
   "id": "bdb62969",
   "metadata": {},
   "outputs": [
    {
     "name": "stdout",
     "output_type": "stream",
     "text": [
      "Nhập số nguyên:6\n",
      "Số chẵn\n"
     ]
    }
   ],
   "source": [
    "n = int(input(\"Nhập số nguyên:\"))\n",
    "if n%2==0:\n",
    "    print(\"Số chẵn\")\n",
    "else:\n",
    "    print(\"Số lẻ\")"
   ]
  }
 ],
 "metadata": {
  "kernelspec": {
   "display_name": "Python 3 (ipykernel)",
   "language": "python",
   "name": "python3"
  },
  "language_info": {
   "codemirror_mode": {
    "name": "ipython",
    "version": 3
   },
   "file_extension": ".py",
   "mimetype": "text/x-python",
   "name": "python",
   "nbconvert_exporter": "python",
   "pygments_lexer": "ipython3",
   "version": "3.10.7"
  }
 },
 "nbformat": 4,
 "nbformat_minor": 5
}
