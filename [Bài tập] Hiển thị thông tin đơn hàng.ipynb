{
 "cells": [
  {
   "cell_type": "markdown",
   "id": "c9d8f265",
   "metadata": {},
   "source": [
    "Sử dụng function: input() để nhập một số tiền bất kì, sau đó chuyển kiểu về int. Dựa vào số tiền đã nhập, chúng ta sẽ tìm và in ra số tiền người dùng phải thanh toán thông qua các mức giảm giá:\n",
    "\n",
    "Nếu chi từ 150$ trở lên:  số tiền thanh toán = số tiền nhập – 50,\n",
    "Nếu chi từ 100$ trở lên:  số tiền thanh toán = số tiền nhập – 25,\n",
    "Nếu chi từ 75$ trở lên:  số tiền thanh toán = số tiền nhập – 15,\n",
    "Nếu chi ít hơn 75$:  số tiền thanh toán = số tiền nhập,"
   ]
  },
  {
   "cell_type": "code",
   "execution_count": 2,
   "id": "dc4fb2bd",
   "metadata": {},
   "outputs": [
    {
     "name": "stdout",
     "output_type": "stream",
     "text": [
      "Give me a price: 160\n",
      "Total:  110\n"
     ]
    }
   ],
   "source": [
    "num = int(input(\"Give me a price: \"))\n",
    "if num >= 150:\n",
    "    print(\"Total: \", num - 50)\n",
    "elif num >= 100:\n",
    "    print(\"Total: \", num - 25)\n",
    "elif num >= 75:\n",
    "    print(\"Total: \", num - 15)\n",
    "else:\n",
    "    print(\"Total: \", num)"
   ]
  }
 ],
 "metadata": {
  "kernelspec": {
   "display_name": "Python 3 (ipykernel)",
   "language": "python",
   "name": "python3"
  },
  "language_info": {
   "codemirror_mode": {
    "name": "ipython",
    "version": 3
   },
   "file_extension": ".py",
   "mimetype": "text/x-python",
   "name": "python",
   "nbconvert_exporter": "python",
   "pygments_lexer": "ipython3",
   "version": "3.10.7"
  }
 },
 "nbformat": 4,
 "nbformat_minor": 5
}
